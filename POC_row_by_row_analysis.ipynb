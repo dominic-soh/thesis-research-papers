{
 "cells": [
  {
   "attachments": {},
   "cell_type": "markdown",
   "metadata": {},
   "source": [
    "Max 20 threads\n",
    "256 GB mem\n",
    "12 months of the year\n",
    "10 years of data\n",
    "18000 x 36000\n",
    "split into eigths\n",
    "8 x (2250 x 36000)\n"
   ]
  },
  {
   "cell_type": "code",
   "execution_count": 10,
   "metadata": {},
   "outputs": [],
   "source": [
    "import dill\n",
    "import numpy as np\n",
    "import datetime\n",
    "from dateutil.relativedelta import relativedelta\n",
    "\n",
    "def eightinator(full_array, index):\n",
    "    return np.array_split(full_array, 8)[index]\n",
    "\n",
    "def stackinator(array1, array2):\n",
    "    return np.dstack((array1, array2))"
   ]
  },
  {
   "cell_type": "code",
   "execution_count": 5,
   "metadata": {},
   "outputs": [
    {
     "name": "stdout",
     "output_type": "stream",
     "text": [
      "[[5]\n",
      " [6]]\n"
     ]
    }
   ],
   "source": [
    "test = np.array([[1],[2],[3],[4],[5],[6],[7],[8],[1],[2],[3],[4],[5],[6],[7],[8]])\n",
    "print(eightinator(test, 2))"
   ]
  },
  {
   "cell_type": "code",
   "execution_count": 11,
   "metadata": {},
   "outputs": [],
   "source": [
    "big_boi20114 = dill.load(open(f\"big_boi20114.pickle\", \"rb\"))\n",
    "big_boi20115 = dill.load(open(f\"big_boi20115.pickle\", \"rb\"))\n",
    "for i in range(0,8):\n",
    "    eighth1 = eightinator(big_boi20114, i)\n",
    "    eighth2 = eightinator(big_boi20115, i)\n",
    "    stacked = stackinator(eighth1, eighth2)\n"
   ]
  },
  {
   "cell_type": "code",
   "execution_count": null,
   "metadata": {},
   "outputs": [],
   "source": [
    "def task(yearmonth):\n",
    "    year, month = yearmonth\n",
    "    end_date = datetime.date(2021, 1, 1)\n",
    "    curr_date = datetime.date(year,month,1)\n",
    "\n",
    "    globals()[f\"big_boi{curr_date.year}{curr_date.month}\"] = dill.load(open(f\"big_boi{curr_date.year}{curr_date.month}.pickle\", \"rb\"))\n",
    "    curr_date += relativedelta(months =+ 1)\n",
    "\n",
    "    while curr_date <= end_date:\n",
    "        "
   ]
  }
 ],
 "metadata": {
  "kernelspec": {
   "display_name": "gdal",
   "language": "python",
   "name": "python3"
  },
  "language_info": {
   "codemirror_mode": {
    "name": "ipython",
    "version": 3
   },
   "file_extension": ".py",
   "mimetype": "text/x-python",
   "name": "python",
   "nbconvert_exporter": "python",
   "pygments_lexer": "ipython3",
   "version": "3.11.3"
  },
  "orig_nbformat": 4
 },
 "nbformat": 4,
 "nbformat_minor": 2
}
