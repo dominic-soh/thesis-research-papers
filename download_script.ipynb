{
 "cells": [
  {
   "cell_type": "code",
   "execution_count": 7,
   "metadata": {},
   "outputs": [
    {
     "ename": "",
     "evalue": "",
     "output_type": "error",
     "traceback": [
      "\u001b[1;31mThe Kernel crashed while executing code in the the current cell or a previous cell. Please review the code in the cell(s) to identify a possible cause of the failure. Click <a href='https://aka.ms/vscodeJupyterKernelCrash'>here</a> for more info. View Jupyter <a href='command:jupyter.viewOutput'>log</a> for further details."
     ]
    }
   ],
   "source": [
    "import requests\n",
    "import datetime\n",
    "from dateutil.relativedelta import relativedelta\n",
    "\n",
    "curr_date = datetime.date(2011, 4, 1)\n",
    "end_date = datetime.date(2020, 12, 31)\n",
    "\n",
    "while curr_date < end_date:\n",
    "    pic_url = f\"https://gmtds.maplarge.com/ogc/ais:density/wms?REQUEST=GetMap&LAYERS=ais:density&STYLES=&FORMAT=image/png&TRANSPARENT=true&SERVICE=WMS&VERSION=1.3.0&WIDTH=3600&HEIGHT=1800&CRS=EPSG:4326&BBOX=-90,-180,90,180&TIME={curr_date}T00:00:00Z&CQL_FILTER=%22category_column=%27DraftGroup%27%20AND%20category=%275%20-%2010%20meters%27%22\"\n",
    "\n",
    "    with open(f'{curr_date}_10km_density.png', 'wb') as handle:\n",
    "        response = requests.get(pic_url, stream=True)\n",
    "\n",
    "        if not response.ok:\n",
    "            print(response)\n",
    "\n",
    "        for block in response.iter_content(1024):\n",
    "            if not block:\n",
    "                break\n",
    "\n",
    "            handle.write(block)\n",
    "    \n",
    "    curr_date += relativedelta(months=1)"
   ]
  },
  {
   "cell_type": "code",
   "execution_count": 3,
   "metadata": {},
   "outputs": [
    {
     "name": "stdout",
     "output_type": "stream",
     "text": [
      "2011-04-01\n"
     ]
    }
   ],
   "source": [
    "print(start_year)"
   ]
  }
 ],
 "metadata": {
  "kernelspec": {
   "display_name": "gdal",
   "language": "python",
   "name": "python3"
  },
  "language_info": {
   "codemirror_mode": {
    "name": "ipython",
    "version": 3
   },
   "file_extension": ".py",
   "mimetype": "text/x-python",
   "name": "python",
   "nbconvert_exporter": "python",
   "pygments_lexer": "ipython3",
   "version": "3.11.3"
  },
  "orig_nbformat": 4
 },
 "nbformat": 4,
 "nbformat_minor": 2
}
